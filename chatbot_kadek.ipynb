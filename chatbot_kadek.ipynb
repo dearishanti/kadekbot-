{
  "cells": [
    {
      "cell_type": "markdown",
      "metadata": {
        "id": "view-in-github",
        "colab_type": "text"
      },
      "source": [
        "<a href=\"https://colab.research.google.com/github/dearishanti/kampus-merdeka-chatbot-kadekbot-/blob/main/chatbot_kadek.ipynb\" target=\"_parent\"><img src=\"https://colab.research.google.com/assets/colab-badge.svg\" alt=\"Open In Colab\"/></a>"
      ]
    },
    {
      "cell_type": "code",
      "source": [
        "from google.colab import drive\n",
        "drive.mount('/content/drive')"
      ],
      "metadata": {
        "colab": {
          "base_uri": "https://localhost:8080/"
        },
        "id": "-v-UqcFoBc1y",
        "outputId": "267e5ac1-4ffe-444a-95d0-46ea0c3ef5ef"
      },
      "execution_count": null,
      "outputs": [
        {
          "output_type": "stream",
          "name": "stdout",
          "text": [
            "Drive already mounted at /content/drive; to attempt to forcibly remount, call drive.mount(\"/content/drive\", force_remount=True).\n"
          ]
        }
      ]
    },
    {
      "cell_type": "code",
      "execution_count": null,
      "metadata": {
        "id": "QyUvg2nBBZmK"
      },
      "outputs": [],
      "source": [
        "# prepare dataset\n",
        "import json\n",
        "import pandas as pd\n",
        "\n",
        "with open(\"/content/drive/MyDrive/Dataset Kampus Merdeka.json\") as data_file:\n",
        "    data = json.load(data_file)"
      ]
    },
    {
      "cell_type": "code",
      "execution_count": null,
      "metadata": {
        "colab": {
          "base_uri": "https://localhost:8080/",
          "height": 206
        },
        "id": "g34f5i_zBZmN",
        "outputId": "a254bc1a-7dd7-4a0b-f575-261790a338d4"
      },
      "outputs": [
        {
          "output_type": "execute_result",
          "data": {
            "text/plain": [
              "  text_input   intents                                          responses\n",
              "0      hallo  greeting  [Hai! Kadekbot di sini. Mau tau informasi tent...\n",
              "1        hai  greeting  [Hai! Kadekbot di sini. Mau tau informasi tent...\n",
              "2       halo  greeting  [Hai! Kadekbot di sini. Mau tau informasi tent...\n",
              "3        hei  greeting  [Hai! Kadekbot di sini. Mau tau informasi tent...\n",
              "4         hi  greeting  [Hai! Kadekbot di sini. Mau tau informasi tent..."
            ],
            "text/html": [
              "\n",
              "  <div id=\"df-76182254-1110-4e46-8a69-bf6d7906c029\">\n",
              "    <div class=\"colab-df-container\">\n",
              "      <div>\n",
              "<style scoped>\n",
              "    .dataframe tbody tr th:only-of-type {\n",
              "        vertical-align: middle;\n",
              "    }\n",
              "\n",
              "    .dataframe tbody tr th {\n",
              "        vertical-align: top;\n",
              "    }\n",
              "\n",
              "    .dataframe thead th {\n",
              "        text-align: right;\n",
              "    }\n",
              "</style>\n",
              "<table border=\"1\" class=\"dataframe\">\n",
              "  <thead>\n",
              "    <tr style=\"text-align: right;\">\n",
              "      <th></th>\n",
              "      <th>text_input</th>\n",
              "      <th>intents</th>\n",
              "      <th>responses</th>\n",
              "    </tr>\n",
              "  </thead>\n",
              "  <tbody>\n",
              "    <tr>\n",
              "      <th>0</th>\n",
              "      <td>hallo</td>\n",
              "      <td>greeting</td>\n",
              "      <td>[Hai! Kadekbot di sini. Mau tau informasi tent...</td>\n",
              "    </tr>\n",
              "    <tr>\n",
              "      <th>1</th>\n",
              "      <td>hai</td>\n",
              "      <td>greeting</td>\n",
              "      <td>[Hai! Kadekbot di sini. Mau tau informasi tent...</td>\n",
              "    </tr>\n",
              "    <tr>\n",
              "      <th>2</th>\n",
              "      <td>halo</td>\n",
              "      <td>greeting</td>\n",
              "      <td>[Hai! Kadekbot di sini. Mau tau informasi tent...</td>\n",
              "    </tr>\n",
              "    <tr>\n",
              "      <th>3</th>\n",
              "      <td>hei</td>\n",
              "      <td>greeting</td>\n",
              "      <td>[Hai! Kadekbot di sini. Mau tau informasi tent...</td>\n",
              "    </tr>\n",
              "    <tr>\n",
              "      <th>4</th>\n",
              "      <td>hi</td>\n",
              "      <td>greeting</td>\n",
              "      <td>[Hai! Kadekbot di sini. Mau tau informasi tent...</td>\n",
              "    </tr>\n",
              "  </tbody>\n",
              "</table>\n",
              "</div>\n",
              "      <button class=\"colab-df-convert\" onclick=\"convertToInteractive('df-76182254-1110-4e46-8a69-bf6d7906c029')\"\n",
              "              title=\"Convert this dataframe to an interactive table.\"\n",
              "              style=\"display:none;\">\n",
              "        \n",
              "  <svg xmlns=\"http://www.w3.org/2000/svg\" height=\"24px\"viewBox=\"0 0 24 24\"\n",
              "       width=\"24px\">\n",
              "    <path d=\"M0 0h24v24H0V0z\" fill=\"none\"/>\n",
              "    <path d=\"M18.56 5.44l.94 2.06.94-2.06 2.06-.94-2.06-.94-.94-2.06-.94 2.06-2.06.94zm-11 1L8.5 8.5l.94-2.06 2.06-.94-2.06-.94L8.5 2.5l-.94 2.06-2.06.94zm10 10l.94 2.06.94-2.06 2.06-.94-2.06-.94-.94-2.06-.94 2.06-2.06.94z\"/><path d=\"M17.41 7.96l-1.37-1.37c-.4-.4-.92-.59-1.43-.59-.52 0-1.04.2-1.43.59L10.3 9.45l-7.72 7.72c-.78.78-.78 2.05 0 2.83L4 21.41c.39.39.9.59 1.41.59.51 0 1.02-.2 1.41-.59l7.78-7.78 2.81-2.81c.8-.78.8-2.07 0-2.86zM5.41 20L4 18.59l7.72-7.72 1.47 1.35L5.41 20z\"/>\n",
              "  </svg>\n",
              "      </button>\n",
              "      \n",
              "  <style>\n",
              "    .colab-df-container {\n",
              "      display:flex;\n",
              "      flex-wrap:wrap;\n",
              "      gap: 12px;\n",
              "    }\n",
              "\n",
              "    .colab-df-convert {\n",
              "      background-color: #E8F0FE;\n",
              "      border: none;\n",
              "      border-radius: 50%;\n",
              "      cursor: pointer;\n",
              "      display: none;\n",
              "      fill: #1967D2;\n",
              "      height: 32px;\n",
              "      padding: 0 0 0 0;\n",
              "      width: 32px;\n",
              "    }\n",
              "\n",
              "    .colab-df-convert:hover {\n",
              "      background-color: #E2EBFA;\n",
              "      box-shadow: 0px 1px 2px rgba(60, 64, 67, 0.3), 0px 1px 3px 1px rgba(60, 64, 67, 0.15);\n",
              "      fill: #174EA6;\n",
              "    }\n",
              "\n",
              "    [theme=dark] .colab-df-convert {\n",
              "      background-color: #3B4455;\n",
              "      fill: #D2E3FC;\n",
              "    }\n",
              "\n",
              "    [theme=dark] .colab-df-convert:hover {\n",
              "      background-color: #434B5C;\n",
              "      box-shadow: 0px 1px 3px 1px rgba(0, 0, 0, 0.15);\n",
              "      filter: drop-shadow(0px 1px 2px rgba(0, 0, 0, 0.3));\n",
              "      fill: #FFFFFF;\n",
              "    }\n",
              "  </style>\n",
              "\n",
              "      <script>\n",
              "        const buttonEl =\n",
              "          document.querySelector('#df-76182254-1110-4e46-8a69-bf6d7906c029 button.colab-df-convert');\n",
              "        buttonEl.style.display =\n",
              "          google.colab.kernel.accessAllowed ? 'block' : 'none';\n",
              "\n",
              "        async function convertToInteractive(key) {\n",
              "          const element = document.querySelector('#df-76182254-1110-4e46-8a69-bf6d7906c029');\n",
              "          const dataTable =\n",
              "            await google.colab.kernel.invokeFunction('convertToInteractive',\n",
              "                                                     [key], {});\n",
              "          if (!dataTable) return;\n",
              "\n",
              "          const docLinkHtml = 'Like what you see? Visit the ' +\n",
              "            '<a target=\"_blank\" href=https://colab.research.google.com/notebooks/data_table.ipynb>data table notebook</a>'\n",
              "            + ' to learn more about interactive tables.';\n",
              "          element.innerHTML = '';\n",
              "          dataTable['output_type'] = 'display_data';\n",
              "          await google.colab.output.renderOutput(dataTable, element);\n",
              "          const docLink = document.createElement('div');\n",
              "          docLink.innerHTML = docLinkHtml;\n",
              "          element.appendChild(docLink);\n",
              "        }\n",
              "      </script>\n",
              "    </div>\n",
              "  </div>\n",
              "  "
            ]
          },
          "metadata": {},
          "execution_count": 9
        }
      ],
      "source": [
        "text_input = []\n",
        "intents = []\n",
        "responses = []\n",
        "ignore_letters = ['!', '?', ',', '.', '[]']\n",
        "\n",
        "for intent in data['intents']:\n",
        "    for input in intent['input']:\n",
        "        text_input.append(input)\n",
        "        intents.append(intent['tag'])\n",
        "        responses.append(intent['responses'])\n",
        "\n",
        "df = pd.DataFrame({'text_input': text_input,\n",
        "                    'intents': intents,\n",
        "                   \"responses\":responses})\n",
        "\n",
        "df.head()"
      ]
    },
    {
      "cell_type": "code",
      "execution_count": null,
      "metadata": {
        "colab": {
          "base_uri": "https://localhost:8080/"
        },
        "id": "FLEmqmscBZmP",
        "outputId": "552cf20d-539c-455a-c87f-dc79c195c38d"
      },
      "outputs": [
        {
          "output_type": "execute_result",
          "data": {
            "text/plain": [
              "greeting                                        15\n",
              "program_kampus_merdeka                          11\n",
              "goodbye                                          9\n",
              "terimakasih                                      5\n",
              "persyaratan_IISMA                                2\n",
              "manfaat_PMMB                                     1\n",
              "periode_dan_pendaftaran_pertukaran_mahasiswa     1\n",
              "periode_dan_pendaftaran_IISMA                    1\n",
              "manfaat_IISMA                                    1\n",
              "mitra_IISMA                                      1\n",
              "penjelasan_pertukaran_mahasiswa                  1\n",
              "persyaratan_pertukaran_mahasiswa                 1\n",
              "manfaat_pertukaran_mahasiswa                     1\n",
              "periode_dan_pendaftaran_PMMB                     1\n",
              "penjelasan_IISMA                                 1\n",
              "persyaratan_pejuang_muda                         1\n",
              "periode_dan_pendaftaran_pejuang_muda             1\n",
              "manfaat_pejuang_muda                             1\n",
              "penjelasan_PMMB                                  1\n",
              "penjelasan_pejuang_muda                          1\n",
              "periode_dan_pendaftaran_kampus_mengajar          1\n",
              "manfaat_kampus_mengajar                          1\n",
              "manfaat_studi_independen                         1\n",
              "penjelasan_kampus_merdeka                        1\n",
              "tujuan_kampus_merdeka                            1\n",
              "persyaratan_kampus_merdeka                       1\n",
              "penjelasan_studi_independen                      1\n",
              "persyaratan_studi_independen                     1\n",
              "periode_dan_pendaftaran_studi_independen         1\n",
              "mitra_studi_independen                           1\n",
              "persyaratan_kampus_mengajar                      1\n",
              "penjelasan_magang                                1\n",
              "persyaratan_magang                               1\n",
              "periode_dan_pendaftaran_magang                   1\n",
              "manfaat_magang                                   1\n",
              "mitra_magang                                     1\n",
              "penjelasan_kampus_mengajar                       1\n",
              "mitra_PMMB                                       1\n",
              "Name: intents, dtype: int64"
            ]
          },
          "metadata": {},
          "execution_count": 10
        }
      ],
      "source": [
        "df.intents.value_counts()"
      ]
    },
    {
      "cell_type": "code",
      "source": [
        "import nltk\n",
        "nltk.download('wordnet')\n",
        "nltk.download('omw-1.4')\n",
        "from nltk.stem import WordNetLemmatizer\n",
        "lemmatizer = WordNetLemmatizer()"
      ],
      "metadata": {
        "colab": {
          "base_uri": "https://localhost:8080/"
        },
        "id": "Z33CEDxpOF7z",
        "outputId": "e4996b33-2869-4797-9bbb-af4e08358353"
      },
      "execution_count": null,
      "outputs": [
        {
          "output_type": "stream",
          "name": "stderr",
          "text": [
            "[nltk_data] Downloading package wordnet to /root/nltk_data...\n",
            "[nltk_data]   Package wordnet is already up-to-date!\n",
            "[nltk_data] Downloading package omw-1.4 to /root/nltk_data...\n",
            "[nltk_data]   Unzipping corpora/omw-1.4.zip.\n"
          ]
        }
      ]
    },
    {
      "cell_type": "code",
      "source": [
        "# lemmaztize and lower each word and remove duplicates\n",
        "intents = [lemmatizer.lemmatize(w.lower()) for w in intents if w not in ignore_letters]\n",
        "intents = sorted(list(set(intents)))\n",
        "text_input = sorted(list(set(text_input)))\n",
        "print (len(responses), \"responses\")\n",
        "print (len(text_input), \"input\", text_input)\n",
        "print (len(intents), \"unique lemmatized tag\", intents)"
      ],
      "metadata": {
        "colab": {
          "base_uri": "https://localhost:8080/"
        },
        "id": "YHmQu4ZwOH60",
        "outputId": "88efc188-04ae-4ebb-a993-c0043fc38ad8"
      },
      "execution_count": null,
      "outputs": [
        {
          "output_type": "stream",
          "name": "stdout",
          "text": [
            "75 responses\n",
            "74 input ['Apa itu IISMA?', 'Apa itu Kampus Mengajar?', 'Apa itu Kampus Merdeka?', 'Apa itu Magang Bersertifikat?', 'Apa itu PMMB?', 'Apa itu Pejuang Muda?', 'Apa itu Pertukaran Mahasiswa Merdeka?', 'Apa itu studi independen?', 'Apa persyaratan mengikuti Kampus Merdeka?', 'Apa saja manfaat apabila mengikuti IISMA?', 'Apa saja manfaat apabila mengikuti Kampus Mengajar?', 'Apa saja manfaat apabila mengikuti Magang Bersertifikat?', 'Apa saja manfaat apabila mengikuti PMMB?', 'Apa saja manfaat apabila mengikuti Pejuang Muda?', 'Apa saja manfaat apabila mengikuti Pertukaran Mahasiswa Merdeka?', 'Apa saja manfaat apabila mengikuti Studi Independen?', 'Apa saja mitra yang tergabung dalam Magang Bersertifikat?', 'Apa saja mitra yang tergabung dalam Studi Independen?', 'Apa saja persyaratan IISMA?', 'Apa saja persyaratan Kampus Mengajar?', 'Apa saja persyaratan Magang Bersertifikat?', 'Apa saja persyaratan Pejuang Muda?', 'Apa saja persyaratan Pertukaran Mahasiswa Merdeka?', 'Apa saja persyaratan Studi Independen?', 'Apa saja program Kampus Merdeka?', 'Apa saja universitas yang tergabung dalam program IISMA?', 'Apa saja universitas yang tergabung dalam program PMMB?', 'Apa tujuan Kampus Merdeka?', 'Bagaimana periode pelaksanaan dan cara mendaftar program IISMA?', 'Bagaimana periode pelaksanaan dan cara mendaftar program Kampus Mengajar?', 'Bagaimana periode pelaksanaan dan cara mendaftar program Magang Bersertifikat?', 'Bagaimana periode pelaksanaan dan cara mendaftar program PMMB?', 'Bagaimana periode pelaksanaan dan cara mendaftar program Pejuang Muda?', 'Bagaimana periode pelaksanaan dan cara mendaftar program Pertukaran Mahasiswa Merdeka?', 'Bagaimana periode pelaksanaan dan cara mendaftar program Studi Independen?', 'Bai', 'Bye', 'Byee', 'Dadah', 'Dah', 'Good bye', 'IISMA', 'Kampus Mengajar', 'Magang', 'Makasih', 'PMMB', 'Pejuang Muda', 'Pertukaran Mahasiswa Merdeka', 'Program Kampus Merdeka BUMN', 'Program Kampus Merdeka Kemendikbud', 'Program Kampus Merdeka Kemensos', 'Sampai jumpa', 'See you', 'Selamat tinggal', 'Studi Independen', 'Terima kasih', 'Terima kasih banyak', 'Thank you', 'Thanks', 'afternoon', 'bro', 'hai', 'hallo', 'halo', 'hei', 'hi', 'hy', 'kawan', 'malam', 'morning', 'pagi', 'siang', 'sis', 'sore']\n",
            "38 unique lemmatized tag ['goodbye', 'greeting', 'manfaat_iisma', 'manfaat_kampus_mengajar', 'manfaat_magang', 'manfaat_pejuang_muda', 'manfaat_pertukaran_mahasiswa', 'manfaat_pmmb', 'manfaat_studi_independen', 'mitra_iisma', 'mitra_magang', 'mitra_pmmb', 'mitra_studi_independen', 'penjelasan_iisma', 'penjelasan_kampus_mengajar', 'penjelasan_kampus_merdeka', 'penjelasan_magang', 'penjelasan_pejuang_muda', 'penjelasan_pertukaran_mahasiswa', 'penjelasan_pmmb', 'penjelasan_studi_independen', 'periode_dan_pendaftaran_iisma', 'periode_dan_pendaftaran_kampus_mengajar', 'periode_dan_pendaftaran_magang', 'periode_dan_pendaftaran_pejuang_muda', 'periode_dan_pendaftaran_pertukaran_mahasiswa', 'periode_dan_pendaftaran_pmmb', 'periode_dan_pendaftaran_studi_independen', 'persyaratan_iisma', 'persyaratan_kampus_mengajar', 'persyaratan_kampus_merdeka', 'persyaratan_magang', 'persyaratan_pejuang_muda', 'persyaratan_pertukaran_mahasiswa', 'persyaratan_studi_independen', 'program_kampus_merdeka', 'terimakasih', 'tujuan_kampus_merdeka']\n"
          ]
        }
      ]
    },
    {
      "cell_type": "code",
      "source": [
        "#tokenize the data\n",
        "from tensorflow.keras.preprocessing.text import Tokenizer\n",
        "tokenizer = Tokenizer(num_words=2000)\n",
        "tokenizer.fit_on_texts(df['text_input'])\n",
        "train = tokenizer.texts_to_sequences(df['text_input'])\n",
        "vocab_size = len(tokenizer.word_index)+1\n",
        "print('vocab_size : {}'.format(vocab_size))\n",
        "\n",
        "#apply padding\n",
        "from tensorflow.keras.preprocessing.sequence import pad_sequences\n",
        "X_train = pad_sequences(train)"
      ],
      "metadata": {
        "colab": {
          "base_uri": "https://localhost:8080/"
        },
        "id": "IxHx3oC7OK8N",
        "outputId": "311d2d60-915e-45db-d5df-270b4a4fb861"
      },
      "execution_count": null,
      "outputs": [
        {
          "output_type": "stream",
          "name": "stdout",
          "text": [
            "vocab_size : 70\n"
          ]
        }
      ]
    },
    {
      "cell_type": "code",
      "execution_count": null,
      "metadata": {
        "id": "EGDQ9Lz_BZmQ"
      },
      "outputs": [],
      "source": [
        "# data cleansing\n",
        "import string\n",
        "\n",
        "# convert lowercase\n",
        "df.text_input = df.text_input.apply(lambda x: x.lower())\n",
        "\n",
        "# remove punctuation\n",
        "exclude = set(string.punctuation)\n",
        "df.text_input = df.text_input.apply(lambda x: ''.join(ch for ch in x if ch not in exclude))"
      ]
    },
    {
      "cell_type": "code",
      "execution_count": null,
      "metadata": {
        "id": "RK-lskADBZmR"
      },
      "outputs": [],
      "source": [
        "# label encoding\n",
        "from sklearn.preprocessing import LabelEncoder\n",
        "from tensorflow.keras.utils import to_categorical\n",
        "\n",
        "le = LabelEncoder()\n",
        "y_train = le.fit_transform(df.intents)\n",
        "y_train = to_categorical(y_train)"
      ]
    },
    {
      "cell_type": "code",
      "execution_count": null,
      "metadata": {
        "id": "xnC3TP9zBZmS"
      },
      "outputs": [],
      "source": [
        "all_vocab = []\n",
        "length = []\n",
        "\n",
        "for idx, row in df.iterrows():\n",
        "    sent = row['text_input']\n",
        "    [all_vocab.append(i) for i in sent.split()]\n",
        "    length.append(len(sent.split()))"
      ]
    },
    {
      "cell_type": "code",
      "execution_count": null,
      "metadata": {
        "colab": {
          "base_uri": "https://localhost:8080/"
        },
        "id": "SyHRW3LvBZmS",
        "outputId": "bceed6bb-8522-460c-b00d-13199b085950"
      },
      "outputs": [
        {
          "output_type": "execute_result",
          "data": {
            "text/plain": [
              "282"
            ]
          },
          "metadata": {},
          "execution_count": 17
        }
      ],
      "source": [
        "len(all_vocab)"
      ]
    },
    {
      "cell_type": "code",
      "execution_count": null,
      "metadata": {
        "colab": {
          "base_uri": "https://localhost:8080/"
        },
        "id": "Zdf3QenYBZmT",
        "outputId": "957a97d5-1426-49c5-fba3-c74a9b3ff20f"
      },
      "outputs": [
        {
          "output_type": "execute_result",
          "data": {
            "text/plain": [
              "10"
            ]
          },
          "metadata": {},
          "execution_count": 18
        }
      ],
      "source": [
        "max(length)"
      ]
    },
    {
      "cell_type": "code",
      "execution_count": null,
      "metadata": {
        "colab": {
          "base_uri": "https://localhost:8080/"
        },
        "id": "r3I5-ZLsBZmT",
        "outputId": "8650e55e-c887-4c1d-c65e-553002bdca9a"
      },
      "outputs": [
        {
          "output_type": "execute_result",
          "data": {
            "text/plain": [
              "69"
            ]
          },
          "metadata": {},
          "execution_count": 19
        }
      ],
      "source": [
        "len(set(all_vocab))"
      ]
    },
    {
      "cell_type": "code",
      "execution_count": null,
      "metadata": {
        "id": "Oh9JU5Q5BZmU"
      },
      "outputs": [],
      "source": [
        "from tensorflow.keras.layers import TextVectorization\n",
        "\n",
        "max_vocab_length = 69\n",
        "max_length = 10\n",
        "\n",
        "text_vectorization = TextVectorization(max_tokens=max_vocab_length,\n",
        "                                       standardize='lower_and_strip_punctuation',\n",
        "                                       split='whitespace',\n",
        "                                       ngrams=None,\n",
        "                                       output_mode='int',\n",
        "                                       output_sequence_length=max_length\n",
        "                                       )\n"
      ]
    },
    {
      "cell_type": "code",
      "execution_count": null,
      "metadata": {
        "id": "YZKIDzPEBZmU"
      },
      "outputs": [],
      "source": [
        "text_vectorization.adapt(df.text_input)"
      ]
    },
    {
      "cell_type": "code",
      "execution_count": null,
      "metadata": {
        "id": "9fo9vgPFBZmU",
        "colab": {
          "base_uri": "https://localhost:8080/"
        },
        "outputId": "ba91c26c-3097-48bb-ea41-3a82e853e1a5"
      },
      "outputs": [
        {
          "output_type": "execute_result",
          "data": {
            "text/plain": [
              "['',\n",
              " '[UNK]',\n",
              " 'apa',\n",
              " 'saja',\n",
              " 'program',\n",
              " 'merdeka',\n",
              " 'kampus',\n",
              " 'persyaratan',\n",
              " 'mengikuti',\n",
              " 'itu',\n",
              " 'periode',\n",
              " 'pelaksanaan',\n",
              " 'mendaftar',\n",
              " 'manfaat',\n",
              " 'iisma',\n",
              " 'dan',\n",
              " 'cara',\n",
              " 'bagaimana',\n",
              " 'apabila',\n",
              " 'studi',\n",
              " 'magang',\n",
              " 'independen',\n",
              " 'pmmb',\n",
              " 'pertukaran',\n",
              " 'pejuang',\n",
              " 'muda',\n",
              " 'mengajar',\n",
              " 'mahasiswa',\n",
              " 'bersertifikat',\n",
              " 'yang',\n",
              " 'tergabung',\n",
              " 'dalam',\n",
              " 'you',\n",
              " 'universitas',\n",
              " 'terima',\n",
              " 'mitra',\n",
              " 'kasih',\n",
              " 'bye',\n",
              " 'tujuan',\n",
              " 'tinggal',\n",
              " 'thanks',\n",
              " 'thank',\n",
              " 'sore',\n",
              " 'sis',\n",
              " 'siang',\n",
              " 'selamat',\n",
              " 'see',\n",
              " 'sampai',\n",
              " 'pagi',\n",
              " 'morning',\n",
              " 'malam',\n",
              " 'makasih',\n",
              " 'kemensos',\n",
              " 'kemendikbud',\n",
              " 'kawan',\n",
              " 'jumpa',\n",
              " 'hy',\n",
              " 'hi',\n",
              " 'hei',\n",
              " 'halo',\n",
              " 'hallo',\n",
              " 'hai',\n",
              " 'good',\n",
              " 'dah',\n",
              " 'dadah',\n",
              " 'byee',\n",
              " 'bumn',\n",
              " 'bro',\n",
              " 'banyak']"
            ]
          },
          "metadata": {},
          "execution_count": 22
        }
      ],
      "source": [
        "text_vectorization.get_vocabulary()"
      ]
    },
    {
      "cell_type": "code",
      "execution_count": null,
      "metadata": {
        "colab": {
          "base_uri": "https://localhost:8080/"
        },
        "id": "lIImSCmhBZmV",
        "outputId": "29b7b37e-3c35-4ece-c8aa-7201b204693f"
      },
      "outputs": [
        {
          "output_type": "execute_result",
          "data": {
            "text/plain": [
              "<tf.Tensor: shape=(10,), dtype=int64, numpy=array([2, 9, 6, 5, 0, 0, 0, 0, 0, 0])>"
            ]
          },
          "metadata": {},
          "execution_count": 23
        }
      ],
      "source": [
        "text_vectorization('Apa itu Kampus Merdeka?')"
      ]
    },
    {
      "cell_type": "code",
      "execution_count": null,
      "metadata": {
        "colab": {
          "base_uri": "https://localhost:8080/",
          "height": 36
        },
        "id": "LPaL0kHCBZmV",
        "outputId": "efd9c280-a0cf-41f7-dada-043044f56dc3"
      },
      "outputs": [
        {
          "output_type": "execute_result",
          "data": {
            "text/plain": [
              "''"
            ],
            "application/vnd.google.colaboratory.intrinsic+json": {
              "type": "string"
            }
          },
          "metadata": {},
          "execution_count": 24
        }
      ],
      "source": [
        "text_vectorization.get_vocabulary()[0]"
      ]
    },
    {
      "cell_type": "code",
      "execution_count": null,
      "metadata": {
        "id": "pOqMcC3CBZmW"
      },
      "outputs": [],
      "source": [
        "from tensorflow.keras.layers import Embedding\n",
        "embedding = Embedding(input_dim=max_vocab_length,\n",
        "                      output_dim=75,\n",
        "                      embeddings_initializer=\"uniform\",\n",
        "                      input_length=max_length)"
      ]
    },
    {
      "cell_type": "code",
      "execution_count": null,
      "metadata": {
        "id": "dwgDUGlNBZmW",
        "colab": {
          "base_uri": "https://localhost:8080/"
        },
        "outputId": "deee3f57-6345-4666-c205-f6331301aac7"
      },
      "outputs": [
        {
          "output_type": "execute_result",
          "data": {
            "text/plain": [
              "<tf.Tensor: shape=(1, 10, 75), dtype=float32, numpy=\n",
              "array([[[ 0.00731296,  0.01294455, -0.03024294, -0.0427697 ,\n",
              "         -0.0238254 , -0.0430975 , -0.01853722, -0.00374181,\n",
              "          0.00366175,  0.04335696, -0.00519579, -0.01109439,\n",
              "         -0.03137083,  0.04930177, -0.04918091, -0.03057951,\n",
              "         -0.00104671, -0.04462874, -0.00906848, -0.00699047,\n",
              "         -0.01361133, -0.0488851 , -0.03028681,  0.01296609,\n",
              "          0.01159309,  0.02440393, -0.04156294, -0.01547307,\n",
              "          0.01391791,  0.04757612, -0.00395151, -0.02837032,\n",
              "         -0.02403945, -0.04347079, -0.02457579,  0.04109478,\n",
              "         -0.02274173,  0.01658667, -0.04130688,  0.01636756,\n",
              "         -0.02309519,  0.04802663, -0.02675378,  0.03360783,\n",
              "          0.04302916, -0.0110425 ,  0.03635648,  0.0232462 ,\n",
              "         -0.04311094,  0.02543683, -0.02641608,  0.00706047,\n",
              "          0.0081761 , -0.00776178,  0.02873738,  0.03330128,\n",
              "         -0.01117216, -0.01443869, -0.01610364,  0.00106121,\n",
              "          0.0411129 , -0.03616755,  0.04364968,  0.04375583,\n",
              "          0.01929236,  0.00517267,  0.03076612,  0.04328574,\n",
              "         -0.02135819, -0.04659852,  0.01683149,  0.0397076 ,\n",
              "          0.0455969 ,  0.01375851,  0.04234746],\n",
              "        [ 0.0069025 , -0.02003704,  0.04107421,  0.03933168,\n",
              "         -0.04459548,  0.01339966,  0.04778718,  0.04608515,\n",
              "         -0.00988271,  0.04985208,  0.04670813,  0.03891695,\n",
              "         -0.03298024,  0.04665232, -0.0305117 , -0.00890394,\n",
              "          0.0334916 ,  0.00944243,  0.00398204,  0.03499131,\n",
              "         -0.04231955, -0.03063426,  0.04380368,  0.03413751,\n",
              "          0.02247014,  0.00457915, -0.01812994,  0.03156458,\n",
              "         -0.0045323 , -0.0032681 ,  0.01398022, -0.02272226,\n",
              "          0.01859799,  0.01079923,  0.00354284, -0.04901484,\n",
              "          0.00362659, -0.02796288, -0.01285303, -0.0001325 ,\n",
              "         -0.01984096, -0.00038279, -0.01469832, -0.03380311,\n",
              "          0.01809027,  0.04537704,  0.02910235, -0.02344648,\n",
              "          0.04494046,  0.03988239, -0.03051213,  0.02875389,\n",
              "         -0.03052834, -0.01914746,  0.02573769,  0.01129819,\n",
              "          0.036308  , -0.02723885, -0.01895423, -0.00507396,\n",
              "         -0.04461831,  0.00101665, -0.0244931 , -0.0032999 ,\n",
              "          0.04217858, -0.03642792,  0.03089001,  0.01449016,\n",
              "         -0.00543278,  0.00914318, -0.01192608,  0.01546888,\n",
              "         -0.00915735,  0.04245347, -0.0286677 ],\n",
              "        [-0.03556411,  0.03986997,  0.02637343, -0.02785327,\n",
              "          0.00857206, -0.04102948,  0.00902028,  0.00213579,\n",
              "         -0.03061101, -0.02412791,  0.04363671,  0.02618787,\n",
              "          0.04462351,  0.04213187,  0.01475412, -0.01720051,\n",
              "         -0.03852671,  0.01102493, -0.00748218, -0.02669953,\n",
              "          0.0360363 ,  0.04156989, -0.03947598, -0.03336438,\n",
              "         -0.00887432,  0.04035575,  0.04138661,  0.02926025,\n",
              "         -0.01882051,  0.04908485,  0.02356509, -0.02582842,\n",
              "          0.03672035,  0.04452794,  0.03899384, -0.02592169,\n",
              "         -0.0326792 , -0.01225302,  0.03521961, -0.02950006,\n",
              "          0.04609876, -0.02271608,  0.04194956,  0.01218138,\n",
              "          0.03320887,  0.00665349,  0.00028415,  0.03617675,\n",
              "          0.01693101,  0.00071283,  0.04765144, -0.03272927,\n",
              "         -0.0205475 ,  0.01333541, -0.03421237, -0.00034369,\n",
              "         -0.02190552, -0.0194031 , -0.00187224, -0.00562546,\n",
              "          0.0079667 , -0.04911249,  0.00508397,  0.00101261,\n",
              "          0.04298344, -0.0222218 , -0.04046872,  0.04878974,\n",
              "         -0.00395006,  0.04276932, -0.04649894, -0.0139652 ,\n",
              "         -0.04795461,  0.01172535,  0.0135848 ],\n",
              "        [-0.02845285, -0.02474853, -0.0367175 , -0.04110495,\n",
              "          0.03774424,  0.02348274, -0.01584304,  0.04643646,\n",
              "          0.03734858, -0.03369796, -0.04003683,  0.00243915,\n",
              "         -0.01205397, -0.04577131, -0.01795233, -0.02167018,\n",
              "          0.04818138, -0.03777955,  0.04057455, -0.0099288 ,\n",
              "         -0.04106671, -0.02959383, -0.0178962 ,  0.04685725,\n",
              "          0.03119388,  0.04214723, -0.04051924, -0.04999888,\n",
              "         -0.04679301, -0.03020967,  0.01238233,  0.04985508,\n",
              "         -0.04465466,  0.02559267, -0.00168716, -0.03053379,\n",
              "         -0.03157114,  0.04049795, -0.03893423, -0.03363953,\n",
              "          0.0189668 , -0.02486918,  0.03780859,  0.03529123,\n",
              "          0.040138  , -0.01924968,  0.03538892, -0.00812725,\n",
              "         -0.00967654, -0.02956923,  0.04590639, -0.03628593,\n",
              "          0.02336675, -0.03920965, -0.03843027,  0.01037842,\n",
              "          0.01251658, -0.04037045,  0.04253563, -0.00078928,\n",
              "         -0.01007561,  0.01479318, -0.04564954,  0.04330138,\n",
              "         -0.00939925,  0.01152036, -0.00831374,  0.04341408,\n",
              "          0.01730963,  0.0147642 ,  0.04250507,  0.03027794,\n",
              "         -0.00602122, -0.04117604, -0.03914566],\n",
              "        [-0.04433215, -0.04255146, -0.00487453, -0.00547886,\n",
              "         -0.01143063,  0.01994931,  0.03903392,  0.04797471,\n",
              "          0.00547538,  0.04994533,  0.04291454,  0.02545075,\n",
              "         -0.03305756,  0.00260378, -0.00919696, -0.00660698,\n",
              "         -0.01471887,  0.02461729,  0.00623639,  0.00428511,\n",
              "         -0.04257547, -0.03418066,  0.01097423,  0.0436101 ,\n",
              "         -0.02943392, -0.04485769, -0.00051664, -0.01063695,\n",
              "         -0.03198978,  0.02713665, -0.00059934,  0.02349618,\n",
              "         -0.04839981,  0.0378425 ,  0.04622768,  0.03741736,\n",
              "         -0.00905216, -0.02602645, -0.04168915,  0.01303378,\n",
              "          0.0050633 ,  0.03188911,  0.00988726,  0.03924027,\n",
              "          0.04863277, -0.04600957, -0.04107774,  0.01891026,\n",
              "         -0.00103744, -0.04139947,  0.02624181, -0.04030829,\n",
              "         -0.0293366 , -0.04903967,  0.041704  ,  0.01821021,\n",
              "          0.03148279,  0.03305936, -0.0450283 ,  0.00322754,\n",
              "          0.01841737,  0.01137108,  0.02582276, -0.005844  ,\n",
              "          0.04832401,  0.03583023,  0.03359685,  0.00236541,\n",
              "         -0.04318029, -0.03301197,  0.03435889, -0.00217677,\n",
              "         -0.03123938,  0.01870338,  0.01552929],\n",
              "        [-0.04433215, -0.04255146, -0.00487453, -0.00547886,\n",
              "         -0.01143063,  0.01994931,  0.03903392,  0.04797471,\n",
              "          0.00547538,  0.04994533,  0.04291454,  0.02545075,\n",
              "         -0.03305756,  0.00260378, -0.00919696, -0.00660698,\n",
              "         -0.01471887,  0.02461729,  0.00623639,  0.00428511,\n",
              "         -0.04257547, -0.03418066,  0.01097423,  0.0436101 ,\n",
              "         -0.02943392, -0.04485769, -0.00051664, -0.01063695,\n",
              "         -0.03198978,  0.02713665, -0.00059934,  0.02349618,\n",
              "         -0.04839981,  0.0378425 ,  0.04622768,  0.03741736,\n",
              "         -0.00905216, -0.02602645, -0.04168915,  0.01303378,\n",
              "          0.0050633 ,  0.03188911,  0.00988726,  0.03924027,\n",
              "          0.04863277, -0.04600957, -0.04107774,  0.01891026,\n",
              "         -0.00103744, -0.04139947,  0.02624181, -0.04030829,\n",
              "         -0.0293366 , -0.04903967,  0.041704  ,  0.01821021,\n",
              "          0.03148279,  0.03305936, -0.0450283 ,  0.00322754,\n",
              "          0.01841737,  0.01137108,  0.02582276, -0.005844  ,\n",
              "          0.04832401,  0.03583023,  0.03359685,  0.00236541,\n",
              "         -0.04318029, -0.03301197,  0.03435889, -0.00217677,\n",
              "         -0.03123938,  0.01870338,  0.01552929],\n",
              "        [-0.04433215, -0.04255146, -0.00487453, -0.00547886,\n",
              "         -0.01143063,  0.01994931,  0.03903392,  0.04797471,\n",
              "          0.00547538,  0.04994533,  0.04291454,  0.02545075,\n",
              "         -0.03305756,  0.00260378, -0.00919696, -0.00660698,\n",
              "         -0.01471887,  0.02461729,  0.00623639,  0.00428511,\n",
              "         -0.04257547, -0.03418066,  0.01097423,  0.0436101 ,\n",
              "         -0.02943392, -0.04485769, -0.00051664, -0.01063695,\n",
              "         -0.03198978,  0.02713665, -0.00059934,  0.02349618,\n",
              "         -0.04839981,  0.0378425 ,  0.04622768,  0.03741736,\n",
              "         -0.00905216, -0.02602645, -0.04168915,  0.01303378,\n",
              "          0.0050633 ,  0.03188911,  0.00988726,  0.03924027,\n",
              "          0.04863277, -0.04600957, -0.04107774,  0.01891026,\n",
              "         -0.00103744, -0.04139947,  0.02624181, -0.04030829,\n",
              "         -0.0293366 , -0.04903967,  0.041704  ,  0.01821021,\n",
              "          0.03148279,  0.03305936, -0.0450283 ,  0.00322754,\n",
              "          0.01841737,  0.01137108,  0.02582276, -0.005844  ,\n",
              "          0.04832401,  0.03583023,  0.03359685,  0.00236541,\n",
              "         -0.04318029, -0.03301197,  0.03435889, -0.00217677,\n",
              "         -0.03123938,  0.01870338,  0.01552929],\n",
              "        [-0.04433215, -0.04255146, -0.00487453, -0.00547886,\n",
              "         -0.01143063,  0.01994931,  0.03903392,  0.04797471,\n",
              "          0.00547538,  0.04994533,  0.04291454,  0.02545075,\n",
              "         -0.03305756,  0.00260378, -0.00919696, -0.00660698,\n",
              "         -0.01471887,  0.02461729,  0.00623639,  0.00428511,\n",
              "         -0.04257547, -0.03418066,  0.01097423,  0.0436101 ,\n",
              "         -0.02943392, -0.04485769, -0.00051664, -0.01063695,\n",
              "         -0.03198978,  0.02713665, -0.00059934,  0.02349618,\n",
              "         -0.04839981,  0.0378425 ,  0.04622768,  0.03741736,\n",
              "         -0.00905216, -0.02602645, -0.04168915,  0.01303378,\n",
              "          0.0050633 ,  0.03188911,  0.00988726,  0.03924027,\n",
              "          0.04863277, -0.04600957, -0.04107774,  0.01891026,\n",
              "         -0.00103744, -0.04139947,  0.02624181, -0.04030829,\n",
              "         -0.0293366 , -0.04903967,  0.041704  ,  0.01821021,\n",
              "          0.03148279,  0.03305936, -0.0450283 ,  0.00322754,\n",
              "          0.01841737,  0.01137108,  0.02582276, -0.005844  ,\n",
              "          0.04832401,  0.03583023,  0.03359685,  0.00236541,\n",
              "         -0.04318029, -0.03301197,  0.03435889, -0.00217677,\n",
              "         -0.03123938,  0.01870338,  0.01552929],\n",
              "        [-0.04433215, -0.04255146, -0.00487453, -0.00547886,\n",
              "         -0.01143063,  0.01994931,  0.03903392,  0.04797471,\n",
              "          0.00547538,  0.04994533,  0.04291454,  0.02545075,\n",
              "         -0.03305756,  0.00260378, -0.00919696, -0.00660698,\n",
              "         -0.01471887,  0.02461729,  0.00623639,  0.00428511,\n",
              "         -0.04257547, -0.03418066,  0.01097423,  0.0436101 ,\n",
              "         -0.02943392, -0.04485769, -0.00051664, -0.01063695,\n",
              "         -0.03198978,  0.02713665, -0.00059934,  0.02349618,\n",
              "         -0.04839981,  0.0378425 ,  0.04622768,  0.03741736,\n",
              "         -0.00905216, -0.02602645, -0.04168915,  0.01303378,\n",
              "          0.0050633 ,  0.03188911,  0.00988726,  0.03924027,\n",
              "          0.04863277, -0.04600957, -0.04107774,  0.01891026,\n",
              "         -0.00103744, -0.04139947,  0.02624181, -0.04030829,\n",
              "         -0.0293366 , -0.04903967,  0.041704  ,  0.01821021,\n",
              "          0.03148279,  0.03305936, -0.0450283 ,  0.00322754,\n",
              "          0.01841737,  0.01137108,  0.02582276, -0.005844  ,\n",
              "          0.04832401,  0.03583023,  0.03359685,  0.00236541,\n",
              "         -0.04318029, -0.03301197,  0.03435889, -0.00217677,\n",
              "         -0.03123938,  0.01870338,  0.01552929],\n",
              "        [-0.04433215, -0.04255146, -0.00487453, -0.00547886,\n",
              "         -0.01143063,  0.01994931,  0.03903392,  0.04797471,\n",
              "          0.00547538,  0.04994533,  0.04291454,  0.02545075,\n",
              "         -0.03305756,  0.00260378, -0.00919696, -0.00660698,\n",
              "         -0.01471887,  0.02461729,  0.00623639,  0.00428511,\n",
              "         -0.04257547, -0.03418066,  0.01097423,  0.0436101 ,\n",
              "         -0.02943392, -0.04485769, -0.00051664, -0.01063695,\n",
              "         -0.03198978,  0.02713665, -0.00059934,  0.02349618,\n",
              "         -0.04839981,  0.0378425 ,  0.04622768,  0.03741736,\n",
              "         -0.00905216, -0.02602645, -0.04168915,  0.01303378,\n",
              "          0.0050633 ,  0.03188911,  0.00988726,  0.03924027,\n",
              "          0.04863277, -0.04600957, -0.04107774,  0.01891026,\n",
              "         -0.00103744, -0.04139947,  0.02624181, -0.04030829,\n",
              "         -0.0293366 , -0.04903967,  0.041704  ,  0.01821021,\n",
              "          0.03148279,  0.03305936, -0.0450283 ,  0.00322754,\n",
              "          0.01841737,  0.01137108,  0.02582276, -0.005844  ,\n",
              "          0.04832401,  0.03583023,  0.03359685,  0.00236541,\n",
              "         -0.04318029, -0.03301197,  0.03435889, -0.00217677,\n",
              "         -0.03123938,  0.01870338,  0.01552929]]], dtype=float32)>"
            ]
          },
          "metadata": {},
          "execution_count": 26
        }
      ],
      "source": [
        "import numpy as np\n",
        "res_embed = embedding(np.array([[2, 9, 6, 5, 0, 0, 0, 0, 0, 0]]))\n",
        "res_embed"
      ]
    },
    {
      "cell_type": "code",
      "execution_count": null,
      "metadata": {
        "id": "jx6righJBZmW"
      },
      "outputs": [],
      "source": [
        "# modelling\n",
        "from tensorflow.keras import Model\n",
        "from tensorflow.keras.layers import Input, Dense, LSTM\n",
        "inputs = Input(shape=(1,), dtype='string')\n",
        "x = text_vectorization(inputs)\n",
        "x = embedding(x)\n",
        "x = LSTM(74)(x)\n",
        "outputs = Dense(38, activation='softmax')(x)\n",
        "model_lstm = Model(inputs, outputs, name=\"LSTM_model\")"
      ]
    },
    {
      "cell_type": "code",
      "execution_count": null,
      "metadata": {
        "id": "MNbDALxgBZmX"
      },
      "outputs": [],
      "source": [
        "# compile model\n",
        "model_lstm.compile(loss='categorical_crossentropy',\n",
        "                   optimizer='adam',\n",
        "                   metrics=[\"accuracy\"])"
      ]
    },
    {
      "cell_type": "code",
      "execution_count": null,
      "metadata": {
        "id": "mtnaAkj7BZmX"
      },
      "outputs": [],
      "source": [
        "history = model_lstm.fit(df.text_input,\n",
        "               y_train,\n",
        "               epochs=200,\n",
        "               verbose=0,\n",
        "               validation_split=0.0)"
      ]
    },
    {
      "cell_type": "code",
      "execution_count": null,
      "metadata": {
        "colab": {
          "base_uri": "https://localhost:8080/"
        },
        "id": "T4Is4FdyBZmX",
        "outputId": "db80fd2b-6e44-4310-a12c-b63bc157a6ab"
      },
      "outputs": [
        {
          "output_type": "stream",
          "name": "stdout",
          "text": [
            "3/3 [==============================] - 1s 5ms/step - loss: 0.1764 - accuracy: 0.9867\n",
            "Test Accuracy: 98.667%\n"
          ]
        }
      ],
      "source": [
        "loss, acc = model_lstm.evaluate(df.text_input, y_train)\n",
        "print(f'Test Accuracy: {acc*100:.3f}%')"
      ]
    },
    {
      "cell_type": "code",
      "source": [
        "epochs = 200\n",
        "import matplotlib.pyplot as plt\n",
        "\n",
        "acc = history.history['accuracy']\n",
        "\n",
        "loss = history.history['loss']\n",
        "\n",
        "epochs_range = range(epochs)\n",
        "\n",
        "plt.figure(figsize=(14, 5))\n",
        "plt.subplot(1, 2, 1)\n",
        "plt.plot(epochs_range, acc, label='Train')\n",
        "plt.legend(loc='lower right')\n",
        "plt.title('Accuracy')\n",
        "plt.subplot(1, 2, 2)\n",
        "\n",
        "plt.plot(epochs_range, loss, label='Train')\n",
        "plt.legend(loc='upper right')\n",
        "plt.title('Loss')\n",
        "plt.show()"
      ],
      "metadata": {
        "colab": {
          "base_uri": "https://localhost:8080/",
          "height": 262
        },
        "id": "OEHY05qAIlWg",
        "outputId": "fa3fe52d-3241-4b4a-da07-eb568eeb496c"
      },
      "execution_count": null,
      "outputs": [
        {
          "output_type": "display_data",
          "data": {
            "text/plain": [
              "<Figure size 1008x360 with 2 Axes>"
            ],
            "image/png": "[encoded data removed]"
          },
          "metadata": {
            "needs_background": "light"
          }
        }
      ]
    },
    {
      "cell_type": "code",
      "execution_count": null,
      "metadata": {
        "id": "RetFsICHBZmY",
        "colab": {
          "base_uri": "https://localhost:8080/"
        },
        "outputId": "458f1055-d4ad-4d45-cec2-0978048323aa"
      },
      "outputs": [
        {
          "output_type": "stream",
          "name": "stderr",
          "text": [
            "WARNING:absl:Found untraced functions such as lstm_cell_layer_call_fn, lstm_cell_layer_call_and_return_conditional_losses while saving (showing 2 of 2). These functions will not be directly callable after loading.\n"
          ]
        },
        {
          "output_type": "stream",
          "name": "stdout",
          "text": [
            "INFO:tensorflow:Assets written to: kadekbot_model.json/assets\n"
          ]
        },
        {
          "output_type": "stream",
          "name": "stderr",
          "text": [
            "INFO:tensorflow:Assets written to: kadekbot_model.json/assets\n",
            "WARNING:absl:<keras.layers.recurrent.LSTMCell object at 0x7ff069064d10> has the same name 'LSTMCell' as a built-in Keras object. Consider renaming <class 'keras.layers.recurrent.LSTMCell'> to avoid naming conflicts when loading with `tf.keras.models.load_model`. If renaming is not possible, pass the object in the `custom_objects` parameter of the load function.\n"
          ]
        }
      ],
      "source": [
        "model_lstm.save(\"kadekbot_model.json\")"
      ]
    },
    {
      "cell_type": "code",
      "source": [
        "import pickle\n",
        "le_filename = open(\"label_encoder.pickle\", \"wb\")\n",
        "pickle.dump(le, le_filename)\n",
        "le_filename.close()"
      ],
      "metadata": {
        "id": "9JHmqiDjoqZu"
      },
      "execution_count": null,
      "outputs": []
    }
  ],
  "metadata": {
    "interpreter": {
      "hash": "1f180c9902c79289e42d46c71793a81f467ad9cf5bddb81fabe478121971048b"
    },
    "kernelspec": {
      "display_name": "Python 3.9.7 64-bit ('tf-cpu-dl': pyenv)",
      "language": "python",
      "name": "python3"
    },
    "language_info": {
      "codemirror_mode": {
        "name": "ipython",
        "version": 3
      },
      "file_extension": ".py",
      "mimetype": "text/x-python",
      "name": "python",
      "nbconvert_exporter": "python",
      "pygments_lexer": "ipython3",
      "version": "3.9.7"
    },
    "orig_nbformat": 4,
    "colab": {
      "provenance": [],
      "include_colab_link": true
    }
  },
  "nbformat": 4,
  "nbformat_minor": 0
}